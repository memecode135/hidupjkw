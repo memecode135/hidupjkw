{
 "cells": [
  {
   "cell_type": "code",
   "execution_count": 7,
   "id": "d4b88649-4f37-4e06-843f-13dbea930777",
   "metadata": {},
   "outputs": [
    {
     "name": "stderr",
     "output_type": "stream",
     "text": [
      "\n",
      "    Error 263 for command:\n",
      "        close hidup.mp3\n",
      "    The specified device is not open or is not recognized by MCI.\n",
      "Failed to close the file: hidup.mp3\n"
     ]
    }
   ],
   "source": [
    "import cv2\n",
    "import numpy as np\n",
    "from playsound import playsound\n",
    "from threading import Thread\n",
    "import os\n",
    "\n",
    "def play_audio(file_path):\n",
    "    \"\"\"Function to play audio in a separate thread\"\"\"\n",
    "    try:\n",
    "        playsound(file_path)\n",
    "    except Exception as e:\n",
    "        print(f\"Error playing audio: {e}\")\n",
    "\n",
    "# Load the PNG image (with alpha channel if needed)\n",
    "image = cv2.imread('hidup.png', cv2.IMREAD_UNCHANGED)\n",
    "\n",
    "# Convert to BGRA if it's RGBA\n",
    "if image.shape[2] == 4:\n",
    "    image = cv2.cvtColor(image, cv2.COLOR_RGBA2BGRA)\n",
    "\n",
    "# Create window\n",
    "cv2.namedWindow('PNG Animation with Audio', cv2.WINDOW_NORMAL)\n",
    "cv2.resizeWindow('PNG Animation with Audio', 800, 600)  # Width, Height (800x600)\n",
    "\n",
    "# Start audio playback in a separate thread\n",
    "audio_file = 'hidup.mp3'  # Change to your audio file path\n",
    "if os.path.exists(audio_file):\n",
    "    audio_thread = Thread(target=play_audio, args=(audio_file,))\n",
    "    audio_thread.daemon = True  # Thread will close when main program exits\n",
    "    audio_thread.start()\n",
    "else:\n",
    "    print(f\"Audio file not found: {audio_file}\")\n",
    "\n",
    "# Fade-in animation\n",
    "for alpha in np.linspace(0, 1, 30):\n",
    "    if image.shape[2] == 4:  # If has alpha channel\n",
    "        # Blend with background (white in this case)\n",
    "        bg = np.ones_like(image[:, :, :3]) * 255\n",
    "        blended = cv2.addWeighted(bg, 1 - alpha, image[:, :, :3], alpha, 0)\n",
    "    else:\n",
    "        blended = cv2.addWeighted(np.zeros_like(image), 1 - alpha, image, alpha, 0)\n",
    "    \n",
    "    cv2.imshow('PNG Animation with Audio', blended)\n",
    "    \n",
    "    # Adjust waitKey time to match your animation speed\n",
    "    if cv2.waitKey(80) & 0xFF == 27:  # ESC key to exit\n",
    "        break\n",
    "\n",
    "cv2.waitKey(0)  # Wait until any key is pressed\n",
    "cv2.destroyAllWindows()"
   ]
  },
  {
   "cell_type": "code",
   "execution_count": null,
   "id": "f2fde147-6f9a-4514-bf9b-8f1b314cc50c",
   "metadata": {},
   "outputs": [],
   "source": []
  },
  {
   "cell_type": "code",
   "execution_count": null,
   "id": "a8b93e22-47c4-4e21-9ad6-a16b533cfb0c",
   "metadata": {},
   "outputs": [],
   "source": []
  },
  {
   "cell_type": "code",
   "execution_count": null,
   "id": "4ecc0e56-e71c-4596-8fb3-580344f6004d",
   "metadata": {},
   "outputs": [],
   "source": []
  }
 ],
 "metadata": {
  "kernelspec": {
   "display_name": "Python 3 (ipykernel)",
   "language": "python",
   "name": "python3"
  },
  "language_info": {
   "codemirror_mode": {
    "name": "ipython",
    "version": 3
   },
   "file_extension": ".py",
   "mimetype": "text/x-python",
   "name": "python",
   "nbconvert_exporter": "python",
   "pygments_lexer": "ipython3",
   "version": "3.9.18"
  }
 },
 "nbformat": 4,
 "nbformat_minor": 5
}
